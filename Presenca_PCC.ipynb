{
 "cells": [
  {
   "cell_type": "code",
   "execution_count": 105,
   "metadata": {},
   "outputs": [],
   "source": [
    "import numpy as np\n",
    "import pandas as pd\n",
    "import tqdm\n",
    "import qrcode"
   ]
  },
  {
   "cell_type": "code",
   "execution_count": null,
   "metadata": {},
   "outputs": [],
   "source": [
    "def qrcode(linkform):\n",
    "    '''\n",
    "    Lê um link do formulário de presenças e retorna o qrcode\n",
    "    parameters:\n",
    "    linkform: link do formulário de presenças\n",
    "    '''\n",
    "    img = qrcode.make()\n",
    "    return img.save(\"some_file.png\")\n",
    "\n",
    "qrcode(linkform)"
   ]
  },
  {
   "cell_type": "code",
   "execution_count": 106,
   "metadata": {},
   "outputs": [
    {
     "name": "stderr",
     "output_type": "stream",
     "text": [
      "100%|████████████████████████████████████████████████████████████████████████████████████████████████████████████████████████████████████████████████████████████████████████████████| 3/3 [00:03<00:00,  1.03s/it]\n"
     ]
    }
   ],
   "source": [
    "aula_1 = \"https://docs.google.com/spreadsheets/d/1sODjBoiN12sN7ogW0HHJ3R__g3-EaGhm3no_HAgtlUA/edit#gid=1256031012\"\n",
    "aula_2 = \"https://docs.google.com/spreadsheets/d/1bfc7SRV-bwLRJN1D5am335iAHGhKObeyxK2dj4Mch68/edit#gid=1243468761\"\n",
    "aula_3 = \"https://docs.google.com/spreadsheets/d/1NJn4T9k3bBVr04ZR5VZ-IbCQcAqtxsS6kJF6dEJLlm8/edit#gid=1589425599\"\n",
    "\n",
    "listaaulas = []\n",
    "\n",
    "\n",
    "aulas = [aula_1,aula_2,aula_3 ]\n",
    "\n",
    "for i in tqdm.tqdm(aulas):\n",
    "    url_1 = i.replace(\"/edit#gid=\", \"/export?format=csv&gid=\")\n",
    "    listaaulas.append(pd.read_csv(url_1))"
   ]
  },
  {
   "cell_type": "code",
   "execution_count": 107,
   "metadata": {},
   "outputs": [
    {
     "data": {
      "text/html": [
       "<div>\n",
       "<style scoped>\n",
       "    .dataframe tbody tr th:only-of-type {\n",
       "        vertical-align: middle;\n",
       "    }\n",
       "\n",
       "    .dataframe tbody tr th {\n",
       "        vertical-align: top;\n",
       "    }\n",
       "\n",
       "    .dataframe thead th {\n",
       "        text-align: right;\n",
       "    }\n",
       "</style>\n",
       "<table border=\"1\" class=\"dataframe\">\n",
       "  <thead>\n",
       "    <tr style=\"text-align: right;\">\n",
       "      <th></th>\n",
       "      <th>Carimbo de data/hora</th>\n",
       "      <th>Pontuação</th>\n",
       "      <th>Qual seu número USP</th>\n",
       "      <th>O que você gostou hoje?</th>\n",
       "      <th>O que poderíamos ter feito melhor?</th>\n",
       "      <th>Comentários Gerais</th>\n",
       "    </tr>\n",
       "  </thead>\n",
       "  <tbody>\n",
       "    <tr>\n",
       "      <th>0</th>\n",
       "      <td>01/02/2023 22:19:40</td>\n",
       "      <td>NaN</td>\n",
       "      <td>12115143</td>\n",
       "      <td>aula</td>\n",
       "      <td>aula</td>\n",
       "      <td>aula</td>\n",
       "    </tr>\n",
       "  </tbody>\n",
       "</table>\n",
       "</div>"
      ],
      "text/plain": [
       "  Carimbo de data/hora  Pontuação  Qual seu número USP  \\\n",
       "0  01/02/2023 22:19:40        NaN             12115143   \n",
       "\n",
       "  O que você gostou hoje? O que poderíamos ter feito melhor?  \\\n",
       "0                    aula                               aula   \n",
       "\n",
       "  Comentários Gerais  \n",
       "0               aula  "
      ]
     },
     "execution_count": 107,
     "metadata": {},
     "output_type": "execute_result"
    }
   ],
   "source": [
    "listadfpresenca = []\n",
    "for i in listaaulas:\n",
    "    dfpresenca = pd.DataFrame(i)\n",
    "    listadfpresenca.append(dfpresenca)"
   ]
  },
  {
   "cell_type": "code",
   "execution_count": 108,
   "metadata": {
    "scrolled": false
   },
   "outputs": [],
   "source": [
    "df = pd.DataFrame({\n",
    "    'NOME': ['Caetano', 'Amelia','Andre', 'Chagas', 'Dindara','Wellington'],\n",
    "    'NUMERO USP': [100100, 101010, 111001, 101001,111100,12115143],\n",
    "    'CURSO': ['Fisica', 'Fisica','Fisica', 'Fisica', 'Fisica','Fisica']  # o nome das colunas podem ter espaços\n",
    "})\n",
    "\n",
    "\n",
    "#presenca.to_csv(\"presenca.csv\")\n",
    "#presenca\n",
    "df.to_csv(\"matricula.csv\")"
   ]
  },
  {
   "cell_type": "code",
   "execution_count": 111,
   "metadata": {},
   "outputs": [
    {
     "data": {
      "text/html": [
       "<div>\n",
       "<style scoped>\n",
       "    .dataframe tbody tr th:only-of-type {\n",
       "        vertical-align: middle;\n",
       "    }\n",
       "\n",
       "    .dataframe tbody tr th {\n",
       "        vertical-align: top;\n",
       "    }\n",
       "\n",
       "    .dataframe thead th {\n",
       "        text-align: right;\n",
       "    }\n",
       "</style>\n",
       "<table border=\"1\" class=\"dataframe\">\n",
       "  <thead>\n",
       "    <tr style=\"text-align: right;\">\n",
       "      <th></th>\n",
       "      <th>Unnamed: 0</th>\n",
       "      <th>NOME</th>\n",
       "      <th>NUMERO USP</th>\n",
       "      <th>CURSO</th>\n",
       "      <th>Número de Presenças</th>\n",
       "    </tr>\n",
       "  </thead>\n",
       "  <tbody>\n",
       "    <tr>\n",
       "      <th>0</th>\n",
       "      <td>0</td>\n",
       "      <td>Caetano</td>\n",
       "      <td>100100</td>\n",
       "      <td>Fisica</td>\n",
       "      <td>0</td>\n",
       "    </tr>\n",
       "    <tr>\n",
       "      <th>1</th>\n",
       "      <td>1</td>\n",
       "      <td>Amelia</td>\n",
       "      <td>101010</td>\n",
       "      <td>Fisica</td>\n",
       "      <td>0</td>\n",
       "    </tr>\n",
       "    <tr>\n",
       "      <th>2</th>\n",
       "      <td>2</td>\n",
       "      <td>Andre</td>\n",
       "      <td>111001</td>\n",
       "      <td>Fisica</td>\n",
       "      <td>0</td>\n",
       "    </tr>\n",
       "    <tr>\n",
       "      <th>3</th>\n",
       "      <td>3</td>\n",
       "      <td>Chagas</td>\n",
       "      <td>101001</td>\n",
       "      <td>Fisica</td>\n",
       "      <td>0</td>\n",
       "    </tr>\n",
       "    <tr>\n",
       "      <th>4</th>\n",
       "      <td>4</td>\n",
       "      <td>Dindara</td>\n",
       "      <td>111100</td>\n",
       "      <td>Fisica</td>\n",
       "      <td>0</td>\n",
       "    </tr>\n",
       "    <tr>\n",
       "      <th>5</th>\n",
       "      <td>5</td>\n",
       "      <td>Wellington</td>\n",
       "      <td>12115143</td>\n",
       "      <td>Fisica</td>\n",
       "      <td>2</td>\n",
       "    </tr>\n",
       "  </tbody>\n",
       "</table>\n",
       "</div>"
      ],
      "text/plain": [
       "   Unnamed: 0        NOME  NUMERO USP   CURSO  Número de Presenças\n",
       "0           0     Caetano      100100  Fisica                    0\n",
       "1           1      Amelia      101010  Fisica                    0\n",
       "2           2       Andre      111001  Fisica                    0\n",
       "3           3      Chagas      101001  Fisica                    0\n",
       "4           4     Dindara      111100  Fisica                    0\n",
       "5           5  Wellington    12115143  Fisica                    2"
      ]
     },
     "execution_count": 111,
     "metadata": {},
     "output_type": "execute_result"
    }
   ],
   "source": [
    "presenca = pd.read_csv(\"matricula.csv\")\n",
    "numero_presenca = []\n",
    "for i in presenca[\"NUMERO USP\"]:\n",
    "    aux = 0\n",
    "    #print(i)\n",
    "    for j in range(0,len(listaaulas)):\n",
    "        #print(i)\n",
    "        if ((listaaulas[j][\"Qual seu número USP\"].eq(i)).any()):\n",
    "            aux += 1\n",
    "    numero_presenca.append(aux)\n",
    "\n",
    "#numero_presenca\n",
    "presenca.insert(4,\"Número de Presenças\", numero_presenca)\n",
    "presenca.to_csv(\"presenca.csv\")\n",
    "presenca"
   ]
  }
 ],
 "metadata": {
  "kernelspec": {
   "display_name": "Python 3 (ipykernel)",
   "language": "python",
   "name": "python3"
  },
  "language_info": {
   "codemirror_mode": {
    "name": "ipython",
    "version": 3
   },
   "file_extension": ".py",
   "mimetype": "text/x-python",
   "name": "python",
   "nbconvert_exporter": "python",
   "pygments_lexer": "ipython3",
   "version": "3.9.13"
  },
  "vscode": {
   "interpreter": {
    "hash": "0c97ab2f42d9ae710638ad8e55882ba4aa5e6b5a6488aa02f15020f10459fd5d"
   }
  }
 },
 "nbformat": 4,
 "nbformat_minor": 2
}
